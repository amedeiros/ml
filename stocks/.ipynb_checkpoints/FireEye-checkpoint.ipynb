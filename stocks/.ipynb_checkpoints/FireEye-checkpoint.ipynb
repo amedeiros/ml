{
 "cells": [
  {
   "cell_type": "code",
   "execution_count": 1,
   "metadata": {
    "collapsed": true
   },
   "outputs": [],
   "source": [
    "import pandas as pd\n",
    "import numpy as np\n",
    "import matplotlib.pyplot as plt\n",
    "%matplotlib inline"
   ]
  },
  {
   "cell_type": "code",
   "execution_count": 2,
   "metadata": {},
   "outputs": [
    {
     "data": {
      "text/html": [
       "<div>\n",
       "<style>\n",
       "    .dataframe thead tr:only-child th {\n",
       "        text-align: right;\n",
       "    }\n",
       "\n",
       "    .dataframe thead th {\n",
       "        text-align: left;\n",
       "    }\n",
       "\n",
       "    .dataframe tbody tr th {\n",
       "        vertical-align: top;\n",
       "    }\n",
       "</style>\n",
       "<table border=\"1\" class=\"dataframe\">\n",
       "  <thead>\n",
       "    <tr style=\"text-align: right;\">\n",
       "      <th></th>\n",
       "      <th>Date</th>\n",
       "      <th>Open</th>\n",
       "      <th>High</th>\n",
       "      <th>Low</th>\n",
       "      <th>Close</th>\n",
       "      <th>Adj Close</th>\n",
       "      <th>Volume</th>\n",
       "    </tr>\n",
       "  </thead>\n",
       "  <tbody>\n",
       "    <tr>\n",
       "      <th>0</th>\n",
       "      <td>2013-09-20</td>\n",
       "      <td>40.299999</td>\n",
       "      <td>44.889999</td>\n",
       "      <td>35.279999</td>\n",
       "      <td>36.000000</td>\n",
       "      <td>36.000000</td>\n",
       "      <td>16876000</td>\n",
       "    </tr>\n",
       "    <tr>\n",
       "      <th>1</th>\n",
       "      <td>2013-09-23</td>\n",
       "      <td>35.250000</td>\n",
       "      <td>38.480000</td>\n",
       "      <td>35.250000</td>\n",
       "      <td>37.450001</td>\n",
       "      <td>37.450001</td>\n",
       "      <td>2404100</td>\n",
       "    </tr>\n",
       "    <tr>\n",
       "      <th>2</th>\n",
       "      <td>2013-09-24</td>\n",
       "      <td>37.549999</td>\n",
       "      <td>38.400002</td>\n",
       "      <td>36.240002</td>\n",
       "      <td>37.009998</td>\n",
       "      <td>37.009998</td>\n",
       "      <td>1219500</td>\n",
       "    </tr>\n",
       "    <tr>\n",
       "      <th>3</th>\n",
       "      <td>2013-09-25</td>\n",
       "      <td>37.500000</td>\n",
       "      <td>40.000000</td>\n",
       "      <td>37.250000</td>\n",
       "      <td>38.799999</td>\n",
       "      <td>38.799999</td>\n",
       "      <td>994700</td>\n",
       "    </tr>\n",
       "    <tr>\n",
       "      <th>4</th>\n",
       "      <td>2013-09-26</td>\n",
       "      <td>39.450001</td>\n",
       "      <td>41.779999</td>\n",
       "      <td>39.000000</td>\n",
       "      <td>41.630001</td>\n",
       "      <td>41.630001</td>\n",
       "      <td>1097200</td>\n",
       "    </tr>\n",
       "  </tbody>\n",
       "</table>\n",
       "</div>"
      ],
      "text/plain": [
       "         Date       Open       High        Low      Close  Adj Close    Volume\n",
       "0  2013-09-20  40.299999  44.889999  35.279999  36.000000  36.000000  16876000\n",
       "1  2013-09-23  35.250000  38.480000  35.250000  37.450001  37.450001   2404100\n",
       "2  2013-09-24  37.549999  38.400002  36.240002  37.009998  37.009998   1219500\n",
       "3  2013-09-25  37.500000  40.000000  37.250000  38.799999  38.799999    994700\n",
       "4  2013-09-26  39.450001  41.779999  39.000000  41.630001  41.630001   1097200"
      ]
     },
     "execution_count": 2,
     "metadata": {},
     "output_type": "execute_result"
    }
   ],
   "source": [
    "stock = pd.read_csv('FEYE.csv', parse_dates=True)\n",
    "stock.head()"
   ]
  },
  {
   "cell_type": "code",
   "execution_count": 3,
   "metadata": {},
   "outputs": [
    {
     "name": "stdout",
     "output_type": "stream",
     "text": [
      "<class 'pandas.core.frame.DataFrame'>\n",
      "RangeIndex: 1083 entries, 0 to 1082\n",
      "Data columns (total 7 columns):\n",
      "Date         1083 non-null object\n",
      "Open         1083 non-null float64\n",
      "High         1083 non-null float64\n",
      "Low          1083 non-null float64\n",
      "Close        1083 non-null float64\n",
      "Adj Close    1083 non-null float64\n",
      "Volume       1083 non-null int64\n",
      "dtypes: float64(5), int64(1), object(1)\n",
      "memory usage: 59.3+ KB\n"
     ]
    }
   ],
   "source": [
    "stock.info()"
   ]
  },
  {
   "cell_type": "code",
   "execution_count": 4,
   "metadata": {
    "collapsed": true
   },
   "outputs": [],
   "source": [
    "# plottted = stock[['Adj Close']].plot(figsize=(20,200), x=stock.Date)\n",
    "# plt.savefig('myfig.pdf')"
   ]
  },
  {
   "cell_type": "code",
   "execution_count": 5,
   "metadata": {},
   "outputs": [
    {
     "data": {
      "text/html": [
       "<div>\n",
       "<style>\n",
       "    .dataframe thead tr:only-child th {\n",
       "        text-align: right;\n",
       "    }\n",
       "\n",
       "    .dataframe thead th {\n",
       "        text-align: left;\n",
       "    }\n",
       "\n",
       "    .dataframe tbody tr th {\n",
       "        vertical-align: top;\n",
       "    }\n",
       "</style>\n",
       "<table border=\"1\" class=\"dataframe\">\n",
       "  <thead>\n",
       "    <tr style=\"text-align: right;\">\n",
       "      <th></th>\n",
       "      <th>Date</th>\n",
       "      <th>Open</th>\n",
       "      <th>High</th>\n",
       "      <th>Low</th>\n",
       "      <th>Close</th>\n",
       "      <th>Adj Close</th>\n",
       "      <th>Volume</th>\n",
       "    </tr>\n",
       "  </thead>\n",
       "  <tbody>\n",
       "    <tr>\n",
       "      <th>827</th>\n",
       "      <td>2017-01-03</td>\n",
       "      <td>11.67</td>\n",
       "      <td>12.440</td>\n",
       "      <td>11.58</td>\n",
       "      <td>12.30</td>\n",
       "      <td>12.30</td>\n",
       "      <td>4835900</td>\n",
       "    </tr>\n",
       "    <tr>\n",
       "      <th>828</th>\n",
       "      <td>2017-01-04</td>\n",
       "      <td>12.33</td>\n",
       "      <td>12.730</td>\n",
       "      <td>12.16</td>\n",
       "      <td>12.67</td>\n",
       "      <td>12.67</td>\n",
       "      <td>5316700</td>\n",
       "    </tr>\n",
       "    <tr>\n",
       "      <th>829</th>\n",
       "      <td>2017-01-05</td>\n",
       "      <td>12.67</td>\n",
       "      <td>13.155</td>\n",
       "      <td>12.51</td>\n",
       "      <td>12.59</td>\n",
       "      <td>12.59</td>\n",
       "      <td>4210600</td>\n",
       "    </tr>\n",
       "    <tr>\n",
       "      <th>830</th>\n",
       "      <td>2017-01-06</td>\n",
       "      <td>12.61</td>\n",
       "      <td>12.710</td>\n",
       "      <td>12.42</td>\n",
       "      <td>12.54</td>\n",
       "      <td>12.54</td>\n",
       "      <td>3204900</td>\n",
       "    </tr>\n",
       "    <tr>\n",
       "      <th>831</th>\n",
       "      <td>2017-01-09</td>\n",
       "      <td>12.57</td>\n",
       "      <td>12.730</td>\n",
       "      <td>12.40</td>\n",
       "      <td>12.69</td>\n",
       "      <td>12.69</td>\n",
       "      <td>2510800</td>\n",
       "    </tr>\n",
       "  </tbody>\n",
       "</table>\n",
       "</div>"
      ],
      "text/plain": [
       "           Date   Open    High    Low  Close  Adj Close   Volume\n",
       "827  2017-01-03  11.67  12.440  11.58  12.30      12.30  4835900\n",
       "828  2017-01-04  12.33  12.730  12.16  12.67      12.67  5316700\n",
       "829  2017-01-05  12.67  13.155  12.51  12.59      12.59  4210600\n",
       "830  2017-01-06  12.61  12.710  12.42  12.54      12.54  3204900\n",
       "831  2017-01-09  12.57  12.730  12.40  12.69      12.69  2510800"
      ]
     },
     "execution_count": 5,
     "metadata": {},
     "output_type": "execute_result"
    }
   ],
   "source": [
    "last_year = stock[(stock.Date >= '2017-01-01') & (stock.Date <= '2017-12-31')]\n",
    "last_year.head()"
   ]
  },
  {
   "cell_type": "code",
   "execution_count": 6,
   "metadata": {},
   "outputs": [
    {
     "data": {
      "text/plain": [
       "<matplotlib.axes._subplots.AxesSubplot at 0x209002492e8>"
      ]
     },
     "execution_count": 6,
     "metadata": {},
     "output_type": "execute_result"
    },
    {
     "data": {
      "image/png": "[encoded data removed]",
      "text/plain": [
       "<matplotlib.figure.Figure at 0x2097e3fbef0>"
      ]
     },
     "metadata": {},
     "output_type": "display_data"
    }
   ],
   "source": [
    "plotted = last_year[['Adj Close']].plot(x=last_year.Date)\n",
    "plotted"
   ]
  },
  {
   "cell_type": "code",
   "execution_count": 7,
   "metadata": {},
   "outputs": [
    {
     "data": {
      "text/html": [
       "<div>\n",
       "<style>\n",
       "    .dataframe thead tr:only-child th {\n",
       "        text-align: right;\n",
       "    }\n",
       "\n",
       "    .dataframe thead th {\n",
       "        text-align: left;\n",
       "    }\n",
       "\n",
       "    .dataframe tbody tr th {\n",
       "        vertical-align: top;\n",
       "    }\n",
       "</style>\n",
       "<table border=\"1\" class=\"dataframe\">\n",
       "  <thead>\n",
       "    <tr style=\"text-align: right;\">\n",
       "      <th></th>\n",
       "      <th>Date</th>\n",
       "      <th>Adj Close</th>\n",
       "    </tr>\n",
       "  </thead>\n",
       "  <tbody>\n",
       "    <tr>\n",
       "      <th>827</th>\n",
       "      <td>2017-01-03</td>\n",
       "      <td>12.30</td>\n",
       "    </tr>\n",
       "    <tr>\n",
       "      <th>828</th>\n",
       "      <td>2017-01-04</td>\n",
       "      <td>12.67</td>\n",
       "    </tr>\n",
       "    <tr>\n",
       "      <th>829</th>\n",
       "      <td>2017-01-05</td>\n",
       "      <td>12.59</td>\n",
       "    </tr>\n",
       "    <tr>\n",
       "      <th>830</th>\n",
       "      <td>2017-01-06</td>\n",
       "      <td>12.54</td>\n",
       "    </tr>\n",
       "    <tr>\n",
       "      <th>831</th>\n",
       "      <td>2017-01-09</td>\n",
       "      <td>12.69</td>\n",
       "    </tr>\n",
       "  </tbody>\n",
       "</table>\n",
       "</div>"
      ],
      "text/plain": [
       "           Date  Adj Close\n",
       "827  2017-01-03      12.30\n",
       "828  2017-01-04      12.67\n",
       "829  2017-01-05      12.59\n",
       "830  2017-01-06      12.54\n",
       "831  2017-01-09      12.69"
      ]
     },
     "execution_count": 7,
     "metadata": {},
     "output_type": "execute_result"
    }
   ],
   "source": [
    "# Just need the Adj Close and Date\n",
    "last_year = last_year[['Date', 'Adj Close']]\n",
    "last_year = last_year.dropna(subset=['Adj Close'])\n",
    "last_year.head()"
   ]
  },
  {
   "cell_type": "code",
   "execution_count": 8,
   "metadata": {},
   "outputs": [
    {
     "data": {
      "image/png": "[encoded data removed]",
      "text/plain": [
       "<matplotlib.figure.Figure at 0x209005bc2b0>"
      ]
     },
     "metadata": {},
     "output_type": "display_data"
    }
   ],
   "source": [
    "# Get the rolling mean and the rolling standard deviation\n",
    "deviate        = 2\n",
    "window         = 20\n",
    "adj_close      = last_year['Adj Close']\n",
    "rolling_window = adj_close.rolling(window=window)\n",
    "rolling_mean   = rolling_window.mean()\n",
    "rolling_std    = rolling_window.std()\n",
    "\n",
    "# Calculate the Bollinger Bands\n",
    "upper_band = rolling_mean + (rolling_std * deviate)\n",
    "lower_band = rolling_mean - (rolling_std * deviate)\n",
    "\n",
    "# Plot\n",
    "ax = adj_close.plot(title=\"Bollinger Bands\", label='Adj Close')\n",
    "rolling_mean.plot(label='Rolling mean', ax=ax)\n",
    "upper_band.plot(label='Upper Band', ax=ax)\n",
    "lower_band.plot(label='Lower Band', ax=ax)\n",
    "\n",
    " # Add axis labels and legend\n",
    "ax.set_xlabel(\"Date\")\n",
    "ax.set_ylabel(\"Price\")\n",
    "ax.legend(loc='upper left')\n",
    "\n",
    "# plt.show()\n",
    "plt.savefig('bolinger.png', fisize=(50, 50))"
   ]
  },
  {
   "cell_type": "code",
   "execution_count": null,
   "metadata": {
    "collapsed": true
   },
   "outputs": [],
   "source": []
  }
 ],
 "metadata": {
  "kernelspec": {
   "display_name": "Python 3",
   "language": "python",
   "name": "python3"
  },
  "language_info": {
   "codemirror_mode": {
    "name": "ipython",
    "version": 3
   },
   "file_extension": ".py",
   "mimetype": "text/x-python",
   "name": "python",
   "nbconvert_exporter": "python",
   "pygments_lexer": "ipython3",
   "version": "3.6.3"
  }
 },
 "nbformat": 4,
 "nbformat_minor": 2
}
